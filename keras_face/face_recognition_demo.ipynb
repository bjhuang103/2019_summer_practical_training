{
 "cells": [
  {
   "cell_type": "code",
   "execution_count": 20,
   "metadata": {},
   "outputs": [],
   "source": [
    "from keras_face.library.face_net import FaceNet"
   ]
  },
  {
   "cell_type": "code",
   "execution_count": 21,
   "metadata": {},
   "outputs": [],
   "source": [
    "def main():\n",
    "    model_dir_path = './demo/models'\n",
    "    image_dir_path = \"./demo/data/images\"\n",
    "\n",
    "    fnet = FaceNet()\n",
    "    fnet.load_model(model_dir_path)\n",
    "\n",
    "    database = {}\n",
    "#     database[\"danielle\"] = fnet.img_to_encoding(image_dir_path + \"/danielle.png\")\n",
    "    database[\"younes\"] = fnet.img_to_encoding(image_dir_path + \"/younes.jpg\")\n",
    "    database[\"lxlt\"] = fnet.img_to_encoding(image_dir_path + \"/lxlt.jpg\")\n",
    "#     database[\"tian\"] = fnet.img_to_encoding(image_dir_path + \"/tian.jpg\")\n",
    "\n",
    "    # verifies whether a particular camera image is a person in the image database\n",
    "    dist, is_valid = fnet.verify(image_dir_path + \"/camera_7.jpg\", \"lxlt\", database)\n",
    "    print('camera_7.jpg is' + (' ' if is_valid else ' not ') + 'lxlt')\n",
    "    \n",
    "    # whether a particular camera image is which person in the image database (or not at all)\n",
    "    dist, identity = fnet.who_is_it(image_dir_path + \"/camera_7.jpg\", database)\n",
    "    if identity is None:\n",
    "        print('camera_7.jpg is not found in database')\n",
    "    else:\n",
    "        print('camera_7.jpg is ' + str(identity))"
   ]
  },
  {
   "cell_type": "code",
   "execution_count": 22,
   "metadata": {},
   "outputs": [
    {
     "name": "stdout",
     "output_type": "stream",
     "text": [
      "Total Params: 3743280\n",
      "It's not lxlt\n",
      "camera_7.jpg is not lxlt\n",
      "Not in the database.\n",
      "camera_7.jpg is lxlt\n"
     ]
    }
   ],
   "source": [
    "main()"
   ]
  },
  {
   "cell_type": "code",
   "execution_count": null,
   "metadata": {},
   "outputs": [],
   "source": []
  }
 ],
 "metadata": {
  "kernelspec": {
   "display_name": "Python 3",
   "language": "python",
   "name": "python3"
  },
  "language_info": {
   "codemirror_mode": {
    "name": "ipython",
    "version": 3
   },
   "file_extension": ".py",
   "mimetype": "text/x-python",
   "name": "python",
   "nbconvert_exporter": "python",
   "pygments_lexer": "ipython3",
   "version": "3.7.3"
  }
 },
 "nbformat": 4,
 "nbformat_minor": 2
}
