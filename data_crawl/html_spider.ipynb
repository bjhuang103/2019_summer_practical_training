{
 "cells": [
  {
   "cell_type": "code",
   "execution_count": 43,
   "metadata": {},
   "outputs": [],
   "source": [
    "from bs4 import BeautifulSoup\n",
    "import re\n",
    "from urllib.parse import urlparse, urljoin\n",
    "import sys\n",
    "from urllib.request import urlopen\n",
    "from urllib.request import urlretrieve"
   ]
  },
  {
   "cell_type": "code",
   "execution_count": 62,
   "metadata": {},
   "outputs": [],
   "source": [
    "def auto_crawl():\n",
    "    \n",
    "    url_template = 'https://www.baobeihuijia.com/list.aspx?tid=1&sex=&photo=&page='\n",
    "    \n",
    "    max_page = 100\n",
    "    \n",
    "    for i in range(1, 100):\n",
    "        \n",
    "        if i % 10 == 0:\n",
    "            print(\"Page: \" + str(i))\n",
    "        \n",
    "        url = url_template + str(i)\n",
    "        \n",
    "        response = urlopen(url)\n",
    "        cont = response.read()\n",
    "        \n",
    "        soup = BeautifulSoup(cont, \"html.parser\", from_encoding=\"utf-8\")\n",
    "        \n",
    "        divs = soup.find_all('div')\n",
    "        \n",
    "        new_divs = []\n",
    "        for div in divs:\n",
    "            if div.has_attr('class'):\n",
    "                if 'pic_bota' in div['class']:\n",
    "                    new_divs.append(div)\n",
    "                    \n",
    "        images = []\n",
    "        for div in new_divs:\n",
    "            image_set = div.find_all('img')\n",
    "            for image in image_set:\n",
    "                images.append(image)\n",
    "                \n",
    "        for image in images:\n",
    "            if \"none\" in image['src']:\n",
    "                continue\n",
    "            pic_name = image['src'].split('/')[-1]\n",
    "            urlretrieve(\"https://www.baobeihuijia.com\" + image['src'], \"./data/\" + pic_name + \".jpg\")"
   ]
  },
  {
   "cell_type": "code",
   "execution_count": 63,
   "metadata": {},
   "outputs": [
    {
     "name": "stdout",
     "output_type": "stream",
     "text": [
      "Page: 10\n",
      "Page: 20\n",
      "Page: 30\n",
      "Page: 40\n",
      "Page: 50\n",
      "Page: 60\n",
      "Page: 70\n",
      "Page: 80\n",
      "Page: 90\n"
     ]
    }
   ],
   "source": [
    "auto_crawl()"
   ]
  },
  {
   "cell_type": "code",
   "execution_count": null,
   "metadata": {},
   "outputs": [],
   "source": []
  }
 ],
 "metadata": {
  "kernelspec": {
   "display_name": "Python 3",
   "language": "python",
   "name": "python3"
  },
  "language_info": {
   "codemirror_mode": {
    "name": "ipython",
    "version": 3
   },
   "file_extension": ".py",
   "mimetype": "text/x-python",
   "name": "python",
   "nbconvert_exporter": "python",
   "pygments_lexer": "ipython3",
   "version": "3.7.3"
  }
 },
 "nbformat": 4,
 "nbformat_minor": 2
}
