{
 "cells": [
  {
   "cell_type": "code",
   "execution_count": 57,
   "metadata": {},
   "outputs": [],
   "source": [
    "from bs4 import BeautifulSoup\n",
    "import re\n",
    "from urllib.parse import urlparse, urljoin\n",
    "import sys\n",
    "from urllib.request import urlopen\n",
    "from urllib.request import urlretrieve\n",
    "import os"
   ]
  },
  {
   "cell_type": "code",
   "execution_count": 61,
   "metadata": {},
   "outputs": [],
   "source": [
    "def auto_list():\n",
    "    path = \"./data\"\n",
    "    temp_list = []\n",
    "    for root,dirs,names in os.walk(path):\n",
    "        for filename in names:\n",
    "          temp_list.append(filename.split(\".\")[0].split(\"_\")[1])\n",
    "        \n",
    "    return temp_list\n",
    "\n",
    "\n",
    "def auto_crawl(persons):\n",
    "    \n",
    "    fout = open(\"./text_data/details.txt\", \"w+\")\n",
    "    \n",
    "    detail_url_template = \"https://www.baobeihuijia.com/view.aspx?type=1&id=\"\n",
    "    \n",
    "    i = 0\n",
    "    \n",
    "    for p in persons:\n",
    "        \n",
    "        if i % 10 == 5:\n",
    "            print(\"Page: \" + str(i))\n",
    "        \n",
    "        url = detail_url_template + p\n",
    "        \n",
    "        response = urlopen(url)\n",
    "        cont = response.read()\n",
    "        \n",
    "        soup = BeautifulSoup(cont, \"html.parser\", from_encoding=\"utf-8\")\n",
    "        \n",
    "        divs = soup.find_all('div')\n",
    "        \n",
    "        new_divs = []\n",
    "        for div in divs:\n",
    "            if div.has_attr('class'):\n",
    "                if 'reginfo' in div['class']:\n",
    "                    new_divs.append(div)\n",
    "                    \n",
    "        lis = []\n",
    "        for div in new_divs:\n",
    "            li_set = div.find_all('li')\n",
    "            for li in li_set:\n",
    "                lis.append(li)\n",
    "                \n",
    "        text = []\n",
    "        \n",
    "        counter = 0\n",
    "        for li in lis:\n",
    "            if counter in [7,8,9]:\n",
    "                try:\n",
    "                    fout.write(li.get_text().split(\"：\")[1])\n",
    "                except:\n",
    "                    print(\"WTF\")\n",
    "            counter += 1\n",
    "            \n",
    "        fout.write(\"\\n\")\n",
    "        i += 1\n",
    "        \n",
    "    fout.close()\n",
    "                \n",
    "#         for image in images:\n",
    "#             if \"none\" in image['src']:\n",
    "#                 continue\n",
    "#             pic_name = image['src'].split('/')[-1]\n",
    "#             urlretrieve(\"https://www.baobeihuijia.com\" + image['src'], \"./data/\" + pic_name + \".jpg\")"
   ]
  },
  {
   "cell_type": "code",
   "execution_count": 62,
   "metadata": {},
   "outputs": [],
   "source": [
    "persons = auto_list()"
   ]
  },
  {
   "cell_type": "code",
   "execution_count": 63,
   "metadata": {},
   "outputs": [
    {
     "name": "stdout",
     "output_type": "stream",
     "text": [
      "Page: 5\n",
      "Page: 15\n",
      "Page: 25\n",
      "Page: 35\n",
      "Page: 45\n",
      "Page: 55\n",
      "Page: 65\n",
      "Page: 75\n",
      "Page: 85\n",
      "WTF\n",
      "Page: 95\n",
      "Page: 105\n",
      "Page: 115\n",
      "Page: 125\n",
      "Page: 135\n",
      "Page: 145\n",
      "Page: 155\n",
      "Page: 165\n",
      "Page: 175\n",
      "Page: 185\n",
      "Page: 195\n",
      "Page: 205\n",
      "Page: 215\n",
      "Page: 225\n",
      "Page: 235\n",
      "Page: 245\n",
      "Page: 255\n",
      "Page: 265\n",
      "Page: 275\n",
      "Page: 285\n",
      "Page: 295\n",
      "Page: 305\n",
      "Page: 315\n",
      "Page: 325\n",
      "Page: 335\n",
      "Page: 345\n"
     ]
    }
   ],
   "source": [
    "auto_crawl(persons)"
   ]
  },
  {
   "cell_type": "code",
   "execution_count": null,
   "metadata": {},
   "outputs": [],
   "source": []
  }
 ],
 "metadata": {
  "kernelspec": {
   "display_name": "Python 3",
   "language": "python",
   "name": "python3"
  },
  "language_info": {
   "codemirror_mode": {
    "name": "ipython",
    "version": 3
   },
   "file_extension": ".py",
   "mimetype": "text/x-python",
   "name": "python",
   "nbconvert_exporter": "python",
   "pygments_lexer": "ipython3",
   "version": "3.7.3"
  }
 },
 "nbformat": 4,
 "nbformat_minor": 2
}
